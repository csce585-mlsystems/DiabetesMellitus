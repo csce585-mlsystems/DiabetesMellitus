{
 "cells": [
  {
   "cell_type": "code",
   "execution_count": 3,
   "id": "934120c5",
   "metadata": {},
   "outputs": [
    {
     "ename": "SyntaxError",
     "evalue": "invalid syntax (2565777609.py, line 5)",
     "output_type": "error",
     "traceback": [
      "\u001b[1;36m  Cell \u001b[1;32mIn [3], line 5\u001b[1;36m\u001b[0m\n\u001b[1;33m    import decision-tree-model\u001b[0m\n\u001b[1;37m                   ^\u001b[0m\n\u001b[1;31mSyntaxError\u001b[0m\u001b[1;31m:\u001b[0m invalid syntax\n"
     ]
    }
   ],
   "source": [
    "import os\n",
    "import numpy as np\n",
    "import pandas as pd\n",
    "import math\n",
    "import decision-tree-model as dt"
   ]
  },
  {
   "cell_type": "code",
   "execution_count": 5,
   "id": "483f7019",
   "metadata": {},
   "outputs": [
    {
     "ename": "NameError",
     "evalue": "name 'os' is not defined",
     "output_type": "error",
     "traceback": [
      "\u001b[1;31m---------------------------------------------------------------------------\u001b[0m",
      "\u001b[1;31mNameError\u001b[0m                                 Traceback (most recent call last)",
      "Cell \u001b[1;32mIn [5], line 2\u001b[0m\n\u001b[0;32m      1\u001b[0m \u001b[38;5;66;03m#earlier code to get path for diabetes.csv\u001b[39;00m\n\u001b[1;32m----> 2\u001b[0m current_path_str \u001b[38;5;241m=\u001b[39m \u001b[43mos\u001b[49m\u001b[38;5;241m.\u001b[39mgetcwd()\n\u001b[0;32m      3\u001b[0m current_path_list \u001b[38;5;241m=\u001b[39m current_path_str\u001b[38;5;241m.\u001b[39msplit(\u001b[38;5;124m\"\u001b[39m\u001b[38;5;130;01m\\\\\u001b[39;00m\u001b[38;5;124m\"\u001b[39m)\n\u001b[0;32m      4\u001b[0m dataset_path_list \u001b[38;5;241m=\u001b[39m current_path_list[:\u001b[38;5;241m-\u001b[39m\u001b[38;5;241m1\u001b[39m]\n",
      "\u001b[1;31mNameError\u001b[0m: name 'os' is not defined"
     ]
    }
   ],
   "source": [
    "#earlier code to get path for diabetes.csv\n",
    "current_path_str = os.getcwd()\n",
    "current_path_list = current_path_str.split(\"\\\\\")\n",
    "dataset_path_list = current_path_list[:-1]\n",
    "dataset_path_list.append(\"Dataset\")\n",
    "dataset_path_str = \"/\".join(dataset_path_list)\n",
    "path = dataset_path_str + \"/diabetes.csv\"\n",
    "\n",
    "# load the dataset to pandas dataframe\n",
    "data_dec_tree = pd.read_csv(path)\n",
    "\n",
    "#show first 5 lines to peek at data\n",
    "data_dec_tree.head()\n",
    "\n",
    "training_base,testing_base = dt.training_testing_split(data_dec_tree, size =20)\n",
    "training_data = training_base.values\n",
    "testing_data = testing_base.values\n"
   ]
  },
  {
   "cell_type": "code",
   "execution_count": null,
   "id": "e9924d3e",
   "metadata": {},
   "outputs": [],
   "source": [
    "#random forest using bootstrapping\n",
    "\n",
    "\n",
    "def bootstraps(training_base, num_bootstraps)\n",
    "    indices = np.radom.randint(low=0, high=len(training_base),size=num_bootstraps)\n",
    "    trainingbase_bootstrapped - training_base.iloc[indices]\n",
    "\n",
    "    return trainingbase_bootstrapped"
   ]
  },
  {
   "cell_type": "code",
   "execution_count": null,
   "id": "65dcda17",
   "metadata": {},
   "outputs": [],
   "source": [
    "def random_forest(training, numtrees, numbootstraps, numfeatures):\n",
    "    #build a forest from the training set with numtrees amount of trees with\n",
    "    # a certain subspace.\n",
    "    forest = []\n",
    "    for i in range(numtrees)\n",
    "        training_bootstrapped = bootstraps(training, numbootstraps)\n",
    "        tree = dt.decision_tree_rand_forest(training_bootstrapped, random_subspace=numfeatures)\n",
    "        forest.append(tree)\n",
    "        \n",
    "    return forest"
   ]
  },
  {
   "cell_type": "code",
   "execution_count": null,
   "id": "c95a0a4e",
   "metadata": {},
   "outputs": [],
   "source": [
    "def random_forest_predictions(testing, forest):\n",
    "    #make a prediciton for each item in dataset using each tree in the forest.\n",
    "    predictions = {}\n",
    "    for i in range(len(forest)):\n",
    "        col = \"tree_{}\".format(i)\n",
    "        #use tree predictions on each tree in forest\n",
    "        predictions = dt.decision_tree_predictions(test_df, tree=forest[i])\n",
    "        df_predictions[col] = predictions\n",
    "\n",
    "    panda_predictions = pd.DataFrame(df_predictions)\n",
    "    # put predictions into Panda dataframe for readibility and future use\n",
    "    random_forest_predictions = panda_predictions.mode(axis=1)[0]\n",
    "    \n",
    "    return random_forest_predictions"
   ]
  }
 ],
 "metadata": {
  "kernelspec": {
   "display_name": "Python 3 (ipykernel)",
   "language": "python",
   "name": "python3"
  },
  "language_info": {
   "codemirror_mode": {
    "name": "ipython",
    "version": 3
   },
   "file_extension": ".py",
   "mimetype": "text/x-python",
   "name": "python",
   "nbconvert_exporter": "python",
   "pygments_lexer": "ipython3",
   "version": "3.10.8"
  }
 },
 "nbformat": 4,
 "nbformat_minor": 5
}

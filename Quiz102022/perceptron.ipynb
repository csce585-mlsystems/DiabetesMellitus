{
 "cells": [
  {
   "cell_type": "code",
   "execution_count": 16,
   "id": "4179c22a",
   "metadata": {},
   "outputs": [],
   "source": [
    "import numpy as np\n",
    "import random\n",
    "import os\n",
    "#perceptron model\n",
    "#train for or: \n",
    "class Perceptron():\n",
    "    def __init__(self, num_features):\n",
    "        self.num_features = num_features\n",
    "        self.weights = np.zeros((num_features, 1), dtype = float)\n",
    "        self.bias = np.zeros(1, dtype = float)\n",
    "    \n",
    "    def predict(self, x):\n",
    "        activation = np.dot(x, self.weights)\n",
    "        predictions = np.where(activation > 0., 1, 0)\n",
    "        return predictions\n",
    "    \n",
    "    def evaluate(self, x, y):\n",
    "        prediction = self.predict(x)\n",
    "        if prediction == y:\n",
    "            return 1\n",
    "        else: \n",
    "            return 0\n",
    "    \n",
    "    def accuracy(self, x, y):\n",
    "        predictions = self.predict(x).reshape(-1)\n",
    "        acc = np.sum(predictions == y) / y.shape[0]\n",
    "        return acc\n",
    "    \n",
    "    def calc_errors(self, x, y):\n",
    "        y_hat = self.predict(x)\n",
    "        errors = y - y_hat\n",
    "        return errors\n",
    "    \n",
    "    def train(self, x, y, epochs, lr = 1):\n",
    "        for e in range(epochs):\n",
    "            for i in range(y.shape[0]):            \n",
    "                error = self.calc_errors(x[i].reshape(1, self.num_features), y[i]).reshape(-1)\n",
    "                self.weights += (lr * error * x[i]).reshape(self.num_features, 1)\n",
    "                self.bias += lr * error"
   ]
  },
  {
   "cell_type": "code",
   "execution_count": 17,
   "id": "67e95a78",
   "metadata": {},
   "outputs": [],
   "source": [
    "data = np.array([[0,0],[0,1],[1,0],[1,1]])\n",
    "X, y = data[:, :2], data[:, :2]\n",
    "y = y.astype(int)\n",
    "\n",
    "# Shuffling & train/test split\n",
    "shuffle_idx = np.arange(y.shape[0])\n",
    "shuffle_rng = np.random.RandomState(123)\n",
    "shuffle_rng.shuffle(shuffle_idx)\n",
    "X, y = X[shuffle_idx], y[shuffle_idx]\n",
    "\n",
    "\n",
    "training_percentage = 80\n",
    "X_train, X_test = X[shuffle_idx[:training_percentage]], X[shuffle_idx[training_percentage:]]\n",
    "y_train, y_test = y[shuffle_idx[:training_percentage]], y[shuffle_idx[training_percentage:]]\n",
    "\n",
    "# Normalize (mean zero, unit variance)\n",
    "mu, sigma = X_train.mean(axis=0), X_train.std(axis=0)\n",
    "X_train = (X_train - mu) / sigma\n",
    "X_test = (X_test - mu) / sigma\n",
    "\n"
   ]
  },
  {
   "cell_type": "code",
   "execution_count": 18,
   "id": "a7be76aa",
   "metadata": {},
   "outputs": [
    {
     "name": "stdout",
     "output_type": "stream",
     "text": [
      "0.0\n"
     ]
    },
    {
     "name": "stderr",
     "output_type": "stream",
     "text": [
      "C:\\Users\\zacha\\AppData\\Local\\Temp\\ipykernel_1832\\3798158194.py:26: DeprecationWarning: elementwise comparison failed; this will raise an error in the future.\n",
      "  acc = np.sum(predictions == y) / y.shape[0]\n"
     ]
    }
   ],
   "source": [
    "pm = Perceptron(num_features=2)\n",
    "train_acc = pm.accuracy(X_train, y_train)\n",
    "print(train_acc*100)"
   ]
  },
  {
   "cell_type": "code",
   "execution_count": 19,
   "id": "111857da",
   "metadata": {},
   "outputs": [
    {
     "ename": "IndexError",
     "evalue": "index 1 is out of bounds for axis 0 with size 1",
     "output_type": "error",
     "traceback": [
      "\u001b[1;31m---------------------------------------------------------------------------\u001b[0m",
      "\u001b[1;31mIndexError\u001b[0m                                Traceback (most recent call last)",
      "Cell \u001b[1;32mIn [19], line 14\u001b[0m\n\u001b[0;32m     12\u001b[0m all_weights\u001b[38;5;241m.\u001b[39mappend(my_perceptron\u001b[38;5;241m.\u001b[39mweights\u001b[38;5;241m.\u001b[39mcopy())\n\u001b[0;32m     13\u001b[0m all_biases\u001b[38;5;241m.\u001b[39mappend(my_perceptron\u001b[38;5;241m.\u001b[39mbias\u001b[38;5;241m.\u001b[39mcopy())\n\u001b[1;32m---> 14\u001b[0m \u001b[43mmy_perceptron\u001b[49m\u001b[38;5;241;43m.\u001b[39;49m\u001b[43mtrain\u001b[49m\u001b[43m(\u001b[49m\u001b[43mX\u001b[49m\u001b[43m[\u001b[49m\u001b[43mi\u001b[49m\u001b[43m]\u001b[49m\u001b[38;5;241;43m.\u001b[39;49m\u001b[43mreshape\u001b[49m\u001b[43m(\u001b[49m\u001b[38;5;241;43m1\u001b[39;49m\u001b[43m,\u001b[49m\u001b[43m \u001b[49m\u001b[38;5;241;43m-\u001b[39;49m\u001b[38;5;241;43m1\u001b[39;49m\u001b[43m)\u001b[49m\u001b[43m,\u001b[49m\u001b[43m \u001b[49m\u001b[43my\u001b[49m\u001b[43m[\u001b[49m\u001b[43mi\u001b[49m\u001b[43m]\u001b[49m\u001b[38;5;241;43m.\u001b[39;49m\u001b[43mreshape\u001b[49m\u001b[43m(\u001b[49m\u001b[38;5;241;43m-\u001b[39;49m\u001b[38;5;241;43m1\u001b[39;49m\u001b[43m)\u001b[49m\u001b[43m,\u001b[49m\u001b[43m \u001b[49m\u001b[43mepochs\u001b[49m\u001b[38;5;241;43m=\u001b[39;49m\u001b[38;5;241;43m1\u001b[39;49m\u001b[43m)\u001b[49m\n\u001b[0;32m     16\u001b[0m acc \u001b[38;5;241m=\u001b[39m my_perceptron\u001b[38;5;241m.\u001b[39maccuracy(X, y)\n\u001b[0;32m     18\u001b[0m \u001b[38;5;28;01mif\u001b[39;00m acc \u001b[38;5;241m==\u001b[39m \u001b[38;5;241m1.0\u001b[39m:\n",
      "Cell \u001b[1;32mIn [16], line 37\u001b[0m, in \u001b[0;36mPerceptron.train\u001b[1;34m(self, x, y, epochs, lr)\u001b[0m\n\u001b[0;32m     35\u001b[0m \u001b[38;5;28;01mfor\u001b[39;00m e \u001b[38;5;129;01min\u001b[39;00m \u001b[38;5;28mrange\u001b[39m(epochs):\n\u001b[0;32m     36\u001b[0m     \u001b[38;5;28;01mfor\u001b[39;00m i \u001b[38;5;129;01min\u001b[39;00m \u001b[38;5;28mrange\u001b[39m(y\u001b[38;5;241m.\u001b[39mshape[\u001b[38;5;241m0\u001b[39m]):            \n\u001b[1;32m---> 37\u001b[0m         error \u001b[38;5;241m=\u001b[39m \u001b[38;5;28mself\u001b[39m\u001b[38;5;241m.\u001b[39mcalc_errors(\u001b[43mx\u001b[49m\u001b[43m[\u001b[49m\u001b[43mi\u001b[49m\u001b[43m]\u001b[49m\u001b[38;5;241m.\u001b[39mreshape(\u001b[38;5;241m1\u001b[39m, \u001b[38;5;28mself\u001b[39m\u001b[38;5;241m.\u001b[39mnum_features), y[i])\u001b[38;5;241m.\u001b[39mreshape(\u001b[38;5;241m-\u001b[39m\u001b[38;5;241m1\u001b[39m)\n\u001b[0;32m     38\u001b[0m         \u001b[38;5;28mself\u001b[39m\u001b[38;5;241m.\u001b[39mweights \u001b[38;5;241m+\u001b[39m\u001b[38;5;241m=\u001b[39m (lr \u001b[38;5;241m*\u001b[39m error \u001b[38;5;241m*\u001b[39m x[i])\u001b[38;5;241m.\u001b[39mreshape(\u001b[38;5;28mself\u001b[39m\u001b[38;5;241m.\u001b[39mnum_features, \u001b[38;5;241m1\u001b[39m)\n\u001b[0;32m     39\u001b[0m         \u001b[38;5;28mself\u001b[39m\u001b[38;5;241m.\u001b[39mbias \u001b[38;5;241m+\u001b[39m\u001b[38;5;241m=\u001b[39m lr \u001b[38;5;241m*\u001b[39m error\n",
      "\u001b[1;31mIndexError\u001b[0m: index 1 is out of bounds for axis 0 with size 1"
     ]
    }
   ],
   "source": [
    "all_weights = []\n",
    "all_biases = []\n",
    "\n",
    "my_perceptron = Perceptron(num_features=2)\n",
    "\n",
    "acc = 0\n",
    "\n",
    "for epoch in range(10):d\n",
    "        all_weights.append(my_perceptron.weights.copy())\n",
    "        all_biases.append(my_perceptron.bias.copy())\n",
    "        my_perceptron.train(X[i].reshape(1, -1), y[i].reshape(-1), epochs=1)\n",
    "        \n",
    "        acc = my_perceptron.accuracy(X, y)\n",
    "        \n",
    "        if acc == 1.0:\n",
    "            break\n",
    "            \n",
    "    if acc == 1.0:\n",
    "        all_weights.append(my_perceptron.weights.copy())\n",
    "        all_biases.append(my_perceptron.bias.copy())\n",
    "        break"
   ]
  },
  {
   "cell_type": "code",
   "execution_count": null,
   "id": "0c791953",
   "metadata": {},
   "outputs": [],
   "source": []
  },
  {
   "cell_type": "code",
   "execution_count": null,
   "id": "7d458a14",
   "metadata": {},
   "outputs": [],
   "source": []
  },
  {
   "cell_type": "code",
   "execution_count": null,
   "id": "5ca19275",
   "metadata": {},
   "outputs": [],
   "source": []
  }
 ],
 "metadata": {
  "kernelspec": {
   "display_name": "Python 3 (ipykernel)",
   "language": "python",
   "name": "python3"
  },
  "language_info": {
   "codemirror_mode": {
    "name": "ipython",
    "version": 3
   },
   "file_extension": ".py",
   "mimetype": "text/x-python",
   "name": "python",
   "nbconvert_exporter": "python",
   "pygments_lexer": "ipython3",
   "version": "3.10.8"
  }
 },
 "nbformat": 4,
 "nbformat_minor": 5
}

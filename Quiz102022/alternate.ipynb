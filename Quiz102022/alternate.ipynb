{
 "cells": [
  {
   "cell_type": "code",
   "execution_count": 5,
   "id": "4a1a5358",
   "metadata": {},
   "outputs": [
    {
     "name": "stdout",
     "output_type": "stream",
     "text": [
      "[[ 0.          0.          0.        ]\n",
      " [ 0.02489757 -0.00625885  0.01375265]\n",
      " [ 0.037596   -0.00767395 -0.05597878]\n",
      " [ 0.06249357 -0.0139328  -0.04222613]]\n"
     ]
    }
   ],
   "source": [
    "import math\n",
    "import sys\n",
    "import numpy as np\n",
    "\n",
    "data = [[0,0],[0,1],[1,0],[1,1],[0,0],[0,1],[1,0],[1,1]] \n",
    "#outputs = []\n",
    "#for i in inputs:\n",
    " #   if i > 0\n",
    "  #      output.append(i)\n",
    "   # elif i<=0:\n",
    "     #   output.append(0)\n",
    "# two input neurons\n",
    "#load 4 into input\n",
    "E = math.e\n",
    "X = [[0,0],[0,1],[1,0],[1,1]]\n",
    "weights_layer_1 = [[0.2,0.4],[0.1,0.5],[.8,1],[.3,1]]\n",
    "weights_layer_2 = [[0.5,0.6],[0.2,0.7],[.1,.9]]\n",
    "#weights_layer_1: two input neurons, each one leads to 4 layer_1 neurons.\n",
    "#for i in data:\n",
    "# three classes: or, and, and xor.        \n",
    "class Layer_Dense:\n",
    "    def __init__(self,n_inputs,n_neurons):\n",
    "        self.weights = 0.1 * np.random.randn(n_inputs,n_neurons)\n",
    "    def forward(self, inputs):\n",
    "        self.output = np.dot(inputs, self.weights) # + self.biases\n",
    "    def sigmoid(z):\n",
    "         return 1/(1 + np.exp(-z))\n",
    "    def reLU(z):\n",
    "        return np.maximum(0,z)\n",
    "class Activation_ReLU:\n",
    "    def forward(self, inputs):\n",
    "        self.output = np.maximum(0, inputs)\n",
    "class Activation_softmax:\n",
    "    def forward(self, inputs):\n",
    "        exp_values = np.exp(inputs - np.max(inputs, axis=1, keepdims=True))\n",
    "        probabilities = exp_values = np.sum(exp_values, axis=1,keepdims=True)\n",
    "        self.output = probabilities\n",
    "class Loss:\n",
    "    def calculate(self, output, y):\n",
    "        sample_losses=self.forward(output, y)\n",
    "        data_loss = np.mean(sample_losses)\n",
    "        return data_loss\n",
    "class Loss_CCE(Loss):\n",
    "    def forward(self, y_pred, y_true):\n",
    "        samples = len(y_pred)\n",
    "        y_pred_clipped = np.clip(y_pred, 1e-10, 1-1e-10)\n",
    "        if len(y_true.shape) == 1:\n",
    "            correct_confidences = y_pred_clipped[range(samples), y_true]\n",
    "        elif len(y_true.shape) == 2:\n",
    "            correct_confidences = np.sum(y_pred_clipped*y_true, axis=1)\n",
    "        negative_log_likelihoods = np.log(correct_confidences)\n",
    "        \n",
    "\n",
    "layer1 = Layer_Dense(2,4) #layer after input\n",
    "layer2 = Layer_Dense(4,3) #\n",
    "\n",
    "layer1.forward(X)\n",
    "activation1 = Activation_ReLU()\n",
    "activation1.forward(layer1.output)\n",
    "\n",
    "layer2.forward(layer1.output)\n",
    "activation2 = Activation_softmax()\n",
    "activation1.forward(layer1.output)\n",
    "activation2.forward(layer2.output)\n",
    "print(activation2.output)\n",
    "\n",
    "loss_functiion = Loss_CCE()\n",
    "loss = loss_function.calculate(activation2.output, correct_vals) #correct_vals is the answer key\n",
    "\n",
    "\n",
    "   # raw_prediction_L_1 =np.dot(np.array(weights_layer_1).T,X)\n",
    "   # raw_prediction_L_2 =np.dot(np.array(weights_layer_2).T,raw_prediction_L_1)\n",
    "   # activation_prediction=np.sigmoid(raw_prediction)\n",
    "    #thats conversion to layer 1\n",
    "     #error = (yactual-activation_prediction)^2"
   ]
  },
  {
   "cell_type": "code",
   "execution_count": null,
   "id": "79f7831e",
   "metadata": {},
   "outputs": [],
   "source": []
  }
 ],
 "metadata": {
  "kernelspec": {
   "display_name": "Python 3 (ipykernel)",
   "language": "python",
   "name": "python3"
  },
  "language_info": {
   "codemirror_mode": {
    "name": "ipython",
    "version": 3
   },
   "file_extension": ".py",
   "mimetype": "text/x-python",
   "name": "python",
   "nbconvert_exporter": "python",
   "pygments_lexer": "ipython3",
   "version": "3.10.8"
  }
 },
 "nbformat": 4,
 "nbformat_minor": 5
}

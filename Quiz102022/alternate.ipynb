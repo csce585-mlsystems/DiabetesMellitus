{
 "cells": [
  {
   "cell_type": "code",
   "execution_count": null,
   "id": "4a1a5358",
   "metadata": {},
   "outputs": [],
   "source": [
    " #or NN\n",
    "import sys\n",
    "import numpy as np\n",
    "\n",
    "def sigmoid(z):\n",
    "    return 1/(1 + np.exp(-z))\n",
    "\n",
    "\n",
    "data = [[0,0],[0,1],[1,0],[1,1]]\n",
    "weights = [[0,0],[0,0],[1,1],[1,1]]\n",
    "for i in data:\n",
    "    inputVal =data[i]\n",
    "    raw_prediction =np.dot(weights[i],inputVal)\n",
    "    activation_prediction=np.sigmoid(raw_prediction)\n",
    "    #thats conversion to layer 1\n",
    "    \n",
    "        error = (yactual-activation_prediction)^2"
   ]
  }
 ],
 "metadata": {
  "kernelspec": {
   "display_name": "Python 3 (ipykernel)",
   "language": "python",
   "name": "python3"
  },
  "language_info": {
   "codemirror_mode": {
    "name": "ipython",
    "version": 3
   },
   "file_extension": ".py",
   "mimetype": "text/x-python",
   "name": "python",
   "nbconvert_exporter": "python",
   "pygments_lexer": "ipython3",
   "version": "3.10.8"
  }
 },
 "nbformat": 4,
 "nbformat_minor": 5
}
